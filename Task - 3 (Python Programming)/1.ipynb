{
 "cells": [
  {
   "cell_type": "code",
   "execution_count": 1,
   "id": "54d20c28",
   "metadata": {},
   "outputs": [
    {
     "name": "stdout",
     "output_type": "stream",
     "text": [
      "1+2j\n",
      "2.23606797749979\n",
      "1.1071487177940904\n"
     ]
    }
   ],
   "source": [
    "##Question 1:Polar Coordinates\n",
    "import cmath as c\n",
    "a=complex(input())\n",
    "print(abs(a))\n",
    "print(c.phase(a))"
   ]
  },
  {
   "cell_type": "code",
   "execution_count": 3,
   "id": "bd57b3ee",
   "metadata": {},
   "outputs": [
    {
     "name": "stdout",
     "output_type": "stream",
     "text": [
      "10\n",
      "10\n",
      "45°\n"
     ]
    }
   ],
   "source": [
    "##Question 2:Find Angle MBC\n",
    "import math\n",
    "a=int(input())\n",
    "b=int(input())\n",
    "a=round(math.degrees(math.atan(a/b)))\n",
    "print(\"{}{}\".format(a,chr(176)))"
   ]
  },
  {
   "cell_type": "code",
   "execution_count": 4,
   "id": "4cf64241",
   "metadata": {},
   "outputs": [
    {
     "name": "stdout",
     "output_type": "stream",
     "text": [
      "5\n",
      "1\n",
      "121\n",
      "12321\n",
      "1234321\n",
      "123454321\n"
     ]
    }
   ],
   "source": [
    "##Question 3:Triangle Quest 2\n",
    "for i in range(1,int(input())+1):\n",
    "    print(int((10**i//9)**2))"
   ]
  },
  {
   "cell_type": "code",
   "execution_count": 5,
   "id": "34a0f84c",
   "metadata": {},
   "outputs": [
    {
     "name": "stdout",
     "output_type": "stream",
     "text": [
      "177\n",
      "10\n",
      "17\n",
      "7\n",
      "(17, 7)\n"
     ]
    }
   ],
   "source": [
    "##Question 4: Mod Divmod\n",
    "a=int(input())\n",
    "b=int(input())\n",
    "a=divmod(a,b)\n",
    "print(a[0])\n",
    "print(a[1])\n",
    "print(a)"
   ]
  },
  {
   "cell_type": "code",
   "execution_count": 6,
   "id": "f29c2f42",
   "metadata": {},
   "outputs": [
    {
     "name": "stdout",
     "output_type": "stream",
     "text": [
      "3\n",
      "4\n",
      "5\n",
      "81\n",
      "1\n"
     ]
    }
   ],
   "source": [
    "##Question 5:Power - Mod Power\n",
    "a=int(input())\n",
    "b=int(input())\n",
    "c=int(input())\n",
    "print(pow(a,b))\n",
    "print(pow(a,b,c))"
   ]
  },
  {
   "cell_type": "code",
   "execution_count": 7,
   "id": "f76a5d4f",
   "metadata": {},
   "outputs": [
    {
     "name": "stdout",
     "output_type": "stream",
     "text": [
      "9\n",
      "29\n",
      "7\n",
      "27\n",
      "4710194409608608369201743232\n"
     ]
    }
   ],
   "source": [
    "##Question 6:Integers Come In All Sizes\n",
    "a=int(input())\n",
    "b=int(input())\n",
    "c=int(input())\n",
    "d=int(input())\n",
    "print(a**b+c**d)"
   ]
  },
  {
   "cell_type": "code",
   "execution_count": 8,
   "id": "a781e77a",
   "metadata": {},
   "outputs": [
    {
     "name": "stdout",
     "output_type": "stream",
     "text": [
      "7\n",
      "1\n",
      "22\n",
      "333\n",
      "4444\n",
      "55555\n",
      "666666\n"
     ]
    }
   ],
   "source": [
    "##Question 7:Triangle Quest\n",
    "for i in range(1,int(input())):\n",
    "    print(int((10**i//9)*i))"
   ]
  }
 ],
 "metadata": {
  "kernelspec": {
   "display_name": "Python 3",
   "language": "python",
   "name": "python3"
  },
  "language_info": {
   "codemirror_mode": {
    "name": "ipython",
    "version": 3
   },
   "file_extension": ".py",
   "mimetype": "text/x-python",
   "name": "python",
   "nbconvert_exporter": "python",
   "pygments_lexer": "ipython3",
   "version": "3.9.0"
  }
 },
 "nbformat": 4,
 "nbformat_minor": 5
}
