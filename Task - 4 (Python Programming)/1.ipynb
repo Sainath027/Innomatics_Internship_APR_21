{
 "cells": [
  {
   "cell_type": "code",
   "execution_count": 1,
   "id": "e95ca9b4",
   "metadata": {},
   "outputs": [
    {
     "name": "stdout",
     "output_type": "stream",
     "text": [
      "HackerRank.com presents \"Pythonist 2\".\n",
      "hACKERrANK.COM PRESENTS \"pYTHONIST 2\".\n"
     ]
    }
   ],
   "source": [
    "##Question 1:sWAP cASE\n",
    "def swap_case(s):\n",
    "    ans=\"\"\n",
    "    for i in s:\n",
    "        if(i.islower()):\n",
    "            ans+=i.upper()\n",
    "        elif(i.isupper):\n",
    "            ans+=i.lower()\n",
    "        else:\n",
    "            ans+=i\n",
    "    return ans\n",
    "\n",
    "if __name__ == '__main__':\n",
    "    s = input()\n",
    "    result = swap_case(s)\n",
    "    print(result)"
   ]
  },
  {
   "cell_type": "code",
   "execution_count": 2,
   "id": "8a307ff7",
   "metadata": {},
   "outputs": [
    {
     "name": "stdout",
     "output_type": "stream",
     "text": [
      "this is a string\n",
      "this-is-a-string\n"
     ]
    }
   ],
   "source": [
    "##Question 2:String Split and Join\n",
    "def split_and_join(line):\n",
    "    return \"-\".join(line.split(\" \"))\n",
    "\n",
    "if __name__ == '__main__':\n",
    "    line = input()\n",
    "    result = split_and_join(line)\n",
    "    print(result)"
   ]
  },
  {
   "cell_type": "code",
   "execution_count": 4,
   "id": "a1121f4e",
   "metadata": {},
   "outputs": [
    {
     "name": "stdout",
     "output_type": "stream",
     "text": [
      "Kukkadapu\n",
      "Sainath\n",
      "Hello Kukkadapu Sainath! You just delved into python.\n"
     ]
    }
   ],
   "source": [
    "##Question 3:What's Your Name?\n",
    "def print_full_name(first, last):\n",
    "    print(\"Hello {} {}! You just delved into python.\".format(first,last))\n",
    "\n",
    "if __name__ == '__main__':\n",
    "    first_name = input()\n",
    "    last_name = input()\n",
    "    print_full_name(first_name, last_name)"
   ]
  },
  {
   "cell_type": "code",
   "execution_count": 5,
   "id": "9e12bcbb",
   "metadata": {},
   "outputs": [
    {
     "name": "stdout",
     "output_type": "stream",
     "text": [
      "abracadabra\n",
      "5 k\n",
      "abrackdabra\n"
     ]
    }
   ],
   "source": [
    "##Question 4:Mutations\n",
    "def mutate_string(string, position, character):\n",
    "    return string[:position]+character+string[position+1:]\n",
    "\n",
    "if __name__ == '__main__':\n",
    "    s = input()\n",
    "    i, c = input().split()\n",
    "    s_new = mutate_string(s, int(i), c)\n",
    "    print(s_new)"
   ]
  },
  {
   "cell_type": "code",
   "execution_count": 6,
   "id": "f0dedc1e",
   "metadata": {},
   "outputs": [
    {
     "name": "stdout",
     "output_type": "stream",
     "text": [
      "ABCDCDC\n",
      "CDC\n",
      "2\n"
     ]
    }
   ],
   "source": [
    "##Question 5:Find a String\n",
    "def count_substring(string, sub_string):\n",
    "    s=string[0:len(sub_string)-1]\n",
    "    count=0\n",
    "    for i in range(len(sub_string)-1,len(string)):\n",
    "        s=s+string[i]\n",
    "        if(s==sub_string):\n",
    "            count+=1\n",
    "        s=s[1:]\n",
    "    return count\n",
    "\n",
    "if __name__ == '__main__':\n",
    "    string = input().strip()\n",
    "    sub_string = input().strip()\n",
    "    \n",
    "    count = count_substring(string, sub_string)\n",
    "    print(count)"
   ]
  },
  {
   "cell_type": "code",
   "execution_count": 7,
   "id": "b8c0f605",
   "metadata": {},
   "outputs": [
    {
     "name": "stdout",
     "output_type": "stream",
     "text": [
      "pppppppp01l;'[]=-09865ghn\n",
      "True\n",
      "True\n",
      "True\n",
      "True\n",
      "False\n"
     ]
    }
   ],
   "source": [
    "##Question 6: String Validators\n",
    "if __name__ == '__main__':\n",
    "    s = input()\n",
    "    print(any(c.isalnum() for c in s))\n",
    "    print(any(c.isalpha() for c in s))\n",
    "    print(any(c.isdigit() for c in s))\n",
    "    print(any(c.islower() for c in s))\n",
    "    print(any(c.isupper() for c in s))"
   ]
  },
  {
   "cell_type": "code",
   "execution_count": 8,
   "id": "b90ce521",
   "metadata": {},
   "outputs": [
    {
     "name": "stdout",
     "output_type": "stream",
     "text": [
      "5\n",
      "    H    \n",
      "   HHH   \n",
      "  HHHHH  \n",
      " HHHHHHH \n",
      "HHHHHHHHH\n",
      "  HHHHH               HHHHH             \n",
      "  HHHHH               HHHHH             \n",
      "  HHHHH               HHHHH             \n",
      "  HHHHH               HHHHH             \n",
      "  HHHHH               HHHHH             \n",
      "  HHHHH               HHHHH             \n",
      "  HHHHHHHHHHHHHHHHHHHHHHHHH   \n",
      "  HHHHHHHHHHHHHHHHHHHHHHHHH   \n",
      "  HHHHHHHHHHHHHHHHHHHHHHHHH   \n",
      "  HHHHH               HHHHH             \n",
      "  HHHHH               HHHHH             \n",
      "  HHHHH               HHHHH             \n",
      "  HHHHH               HHHHH             \n",
      "  HHHHH               HHHHH             \n",
      "  HHHHH               HHHHH             \n",
      "                    HHHHHHHHH \n",
      "                     HHHHHHH  \n",
      "                      HHHHH   \n",
      "                       HHH    \n",
      "                        H     \n"
     ]
    }
   ],
   "source": [
    "##Question 7:Text Alignment\n",
    "#Replace all ______ with rjust, ljust or center. \n",
    "\n",
    "thickness = int(input()) #This must be an odd number\n",
    "c = 'H'\n",
    "\n",
    "#Top Cone\n",
    "for i in range(thickness):\n",
    "    print((c*i).rjust(thickness-1)+c+(c*i).ljust(thickness-1))\n",
    "\n",
    "#Top Pillars\n",
    "for i in range(thickness+1):\n",
    "    print((c*thickness).center(thickness*2)+(c*thickness).center(thickness*6))\n",
    "\n",
    "#Middle Belt\n",
    "for i in range((thickness+1)//2):\n",
    "    print((c*thickness*5).center(thickness*6))    \n",
    "\n",
    "#Bottom Pillars\n",
    "for i in range(thickness+1):\n",
    "    print((c*thickness).center(thickness*2)+(c*thickness).center(thickness*6))    \n",
    "\n",
    "#Bottom Cone\n",
    "for i in range(thickness):\n",
    "    print(((c*(thickness-i-1)).rjust(thickness)+c+(c*(thickness-i-1)).ljust(thickness)).rjust(thickness*6))"
   ]
  },
  {
   "cell_type": "code",
   "execution_count": 9,
   "id": "5bcee9f0",
   "metadata": {},
   "outputs": [
    {
     "name": "stdout",
     "output_type": "stream",
     "text": [
      "ABCDEFGHIJKLIMNOQRSTUVWXYZ\n",
      "4\n",
      "ABCD\n",
      "EFGH\n",
      "IJKL\n",
      "IMNO\n",
      "QRST\n",
      "UVWX\n",
      "YZ\n"
     ]
    }
   ],
   "source": [
    "##Question 8: Text Wrap\n",
    "import textwrap\n",
    "def wrap(string, max_width):\n",
    "    l=textwrap.wrap(string,max_width)\n",
    "    return \"\\n\".join(l)\n",
    "\n",
    "if __name__ == '__main__':\n",
    "    string, max_width = input(), int(input())\n",
    "    result = wrap(string, max_width)\n",
    "    print(result)"
   ]
  },
  {
   "cell_type": "code",
   "execution_count": 12,
   "id": "805aa480",
   "metadata": {},
   "outputs": [
    {
     "name": "stdout",
     "output_type": "stream",
     "text": [
      "20 60\n",
      "----------------------------.|.----------------------------\n",
      "-------------------------.|..|..|.-------------------------\n",
      "----------------------.|..|..|..|..|.----------------------\n",
      "-------------------.|..|..|..|..|..|..|.-------------------\n",
      "----------------.|..|..|..|..|..|..|..|..|.----------------\n",
      "-------------.|..|..|..|..|..|..|..|..|..|..|.-------------\n",
      "----------.|..|..|..|..|..|..|..|..|..|..|..|..|.----------\n",
      "-------.|..|..|..|..|..|..|..|..|..|..|..|..|..|..|.-------\n",
      "----.|..|..|..|..|..|..|..|..|..|..|..|..|..|..|..|..|.----\n",
      "-.|..|..|..|..|..|..|..|..|..|..|..|..|..|..|..|..|..|..|.-\n",
      "--------------------------WELCOME--------------------------\n",
      "-.|..|..|..|..|..|..|..|..|..|..|..|..|..|..|..|..|..|..|.-\n",
      "----.|..|..|..|..|..|..|..|..|..|..|..|..|..|..|..|..|.----\n",
      "-------.|..|..|..|..|..|..|..|..|..|..|..|..|..|..|.-------\n",
      "----------.|..|..|..|..|..|..|..|..|..|..|..|..|.----------\n",
      "-------------.|..|..|..|..|..|..|..|..|..|..|.-------------\n",
      "----------------.|..|..|..|..|..|..|..|..|.----------------\n",
      "-------------------.|..|..|..|..|..|..|.-------------------\n",
      "----------------------.|..|..|..|..|.----------------------\n",
      "-------------------------.|..|..|.-------------------------\n",
      "----------------------------.|.----------------------------\n"
     ]
    }
   ],
   "source": [
    "##Question 9:Designer Door Mat\n",
    "a,b=map(int,input().split())\n",
    "i=1\n",
    "k=b\n",
    "for _ in range(a//2):\n",
    "    s=\"-\"*((b-(i*3))//2)\n",
    "    print(s,end=\"\")\n",
    "    print(\".|.\"*i,end=\"\")\n",
    "    print(s)\n",
    "    i+=2\n",
    "i-=2\n",
    "s='-'*((b-7)//2)\n",
    "print(\"{}WELCOME{}\".format(s,s))\n",
    "for _ in range(a//2):\n",
    "    s=\"-\"*((b-(i*3))//2)\n",
    "    print(s,end=\"\")\n",
    "    print(\".|.\"*i,end=\"\")\n",
    "    print(s)\n",
    "    i-=2"
   ]
  },
  {
   "cell_type": "code",
   "execution_count": 16,
   "id": "0e1737b9",
   "metadata": {},
   "outputs": [
    {
     "name": "stdout",
     "output_type": "stream",
     "text": [
      "10\n",
      "   1    1    1    1\n",
      "   2    2    2   10\n",
      "   3    3    3   11\n",
      "   4    4    4  100\n",
      "   5    5    5  101\n",
      "   6    6    6  110\n",
      "   7    7    7  111\n",
      "   8   10    8 1000\n",
      "   9   11    9 1001\n",
      "  10   12    A 1010\n"
     ]
    }
   ],
   "source": [
    "##Question 10: String Formatting\n",
    "def print_formatted(number):\n",
    "    # your code goes here\n",
    "    s=len(bin(n)[2:])\n",
    "    for i in range(1,n+1):\n",
    "        print(str(i).rjust(s,' '),str(oct(i)[1:])[1:].rjust(s,' '),str(hex(i)[2:].upper()).rjust(s,' '),str(bin(i)[2:]).rjust(s,' '))\n",
    "\n",
    "if __name__ == '__main__':\n",
    "    n = int(input())\n",
    "    print_formatted(n)"
   ]
  },
  {
   "cell_type": "code",
   "execution_count": 22,
   "id": "8302aa20",
   "metadata": {},
   "outputs": [
    {
     "name": "stdout",
     "output_type": "stream",
     "text": [
      "how are you \n",
      "How Are You\n"
     ]
    }
   ],
   "source": [
    "##Question 11:Capitalize\n",
    "s=input()\n",
    "s=s.split()\n",
    "s=[i.capitalize() for i in s]\n",
    "print (' '.join(s))\n"
   ]
  },
  {
   "cell_type": "code",
   "execution_count": 17,
   "id": "d97dbe35",
   "metadata": {},
   "outputs": [
    {
     "name": "stdout",
     "output_type": "stream",
     "text": [
      "10\n",
      "------------------j------------------\n",
      "----------------j-i-j----------------\n",
      "--------------j-i-h-i-j--------------\n",
      "------------j-i-h-g-h-i-j------------\n",
      "----------j-i-h-g-f-g-h-i-j----------\n",
      "--------j-i-h-g-f-e-f-g-h-i-j--------\n",
      "------j-i-h-g-f-e-d-e-f-g-h-i-j------\n",
      "----j-i-h-g-f-e-d-c-d-e-f-g-h-i-j----\n",
      "--j-i-h-g-f-e-d-c-b-c-d-e-f-g-h-i-j--\n",
      "j-i-h-g-f-e-d-c-b-a-b-c-d-e-f-g-h-i-j\n",
      "--j-i-h-g-f-e-d-c-b-c-d-e-f-g-h-i-j--\n",
      "----j-i-h-g-f-e-d-c-d-e-f-g-h-i-j----\n",
      "------j-i-h-g-f-e-d-e-f-g-h-i-j------\n",
      "--------j-i-h-g-f-e-f-g-h-i-j--------\n",
      "----------j-i-h-g-f-g-h-i-j----------\n",
      "------------j-i-h-g-h-i-j------------\n",
      "--------------j-i-h-i-j--------------\n",
      "----------------j-i-j----------------\n",
      "------------------j------------------\n"
     ]
    }
   ],
   "source": [
    "##Question 12:Alphabet Rangoli\n",
    "def print_rangoli(n):\n",
    "    for i in range(n):\n",
    "        s = \"-\".join(chr(ord('a')+n-j-1) for j in range(i+1))\n",
    "        print((s+s[::-1][1:]).center(n*4-3, '-'))\n",
    "\n",
    "    for i in range(n-1):\n",
    "        s = \"-\".join(chr(ord('a')+n-j-1) for j in range(n-i-1))\n",
    "        print((s+s[::-1][1:]).center(n*4-3, '-'))\n",
    "\n",
    "if __name__ == '__main__':\n",
    "    n = int(input())\n",
    "    print_rangoli(n)"
   ]
  },
  {
   "cell_type": "code",
   "execution_count": 2,
   "id": "701ee8f0",
   "metadata": {},
   "outputs": [
    {
     "name": "stdout",
     "output_type": "stream",
     "text": [
      "hello   world  lol\n",
      "Hello   World  Lol\n"
     ]
    }
   ],
   "source": [
    "##Question 13:Capitalize!\n",
    "#!/bin/python3\n",
    "\n",
    "import math\n",
    "import os\n",
    "import random\n",
    "import re\n",
    "import sys\n",
    "def solve(s):\n",
    "    s=s[0].capitalize()+s[1:]\n",
    "    for i in range(1,len(s)):\n",
    "        if(s[i]!=' ' and s[i-1]==' '):\n",
    "            s=s[0:i]+s[i].capitalize()+s[i+1:]\n",
    "    return s\n",
    "s=input()\n",
    "s=solve(s)\n",
    "print(s)"
   ]
  },
  {
   "cell_type": "code",
   "execution_count": 3,
   "id": "8f8b407c",
   "metadata": {},
   "outputs": [
    {
     "name": "stdout",
     "output_type": "stream",
     "text": [
      "BANANA\n",
      "Stuart 12\n"
     ]
    }
   ],
   "source": [
    "##Question 14:The Minion Game\n",
    "def minion_game(string):\n",
    "    vowels=['A','E','I','O','U']\n",
    "    vowplayer=0\n",
    "    con=0\n",
    "    for i in range(len(string)):\n",
    "        if string[i] in vowels:\n",
    "            vowplayer+=len(string)-i\n",
    "        else:\n",
    "            con+=len(string)-i\n",
    "    if vowplayer>con:\n",
    "        print(\"Kevin {}\".format(vowplayer))\n",
    "    elif con>vowplayer:\n",
    "        print(\"Stuart {}\".format(con))\n",
    "    else:\n",
    "        print(\"Draw\")\n",
    "\n",
    "s = input()\n",
    "minion_game(s)"
   ]
  },
  {
   "cell_type": "code",
   "execution_count": 4,
   "id": "edf1e1d9",
   "metadata": {},
   "outputs": [
    {
     "name": "stdout",
     "output_type": "stream",
     "text": [
      "AABCAAADA\n",
      "3\n",
      "AB\n",
      "CA\n",
      "AD\n"
     ]
    }
   ],
   "source": [
    "##Question 15:Merge the Tools\n",
    "def merge_the_tools(string, k):\n",
    "    l=[]\n",
    "    l.append(string[0])\n",
    "    for i in range(1,len(string)):\n",
    "        if i%k==0:\n",
    "            print(\"\".join(l))\n",
    "            l=[]\n",
    "        if string[i] not in l:\n",
    "            l.append(string[i])\n",
    "    print(''.join(l))\n",
    "\n",
    "string, k = input(), int(input())\n",
    "merge_the_tools(string, k)"
   ]
  }
 ],
 "metadata": {
  "kernelspec": {
   "display_name": "Python 3",
   "language": "python",
   "name": "python3"
  },
  "language_info": {
   "codemirror_mode": {
    "name": "ipython",
    "version": 3
   },
   "file_extension": ".py",
   "mimetype": "text/x-python",
   "name": "python",
   "nbconvert_exporter": "python",
   "pygments_lexer": "ipython3",
   "version": "3.9.4"
  }
 },
 "nbformat": 4,
 "nbformat_minor": 5
}
