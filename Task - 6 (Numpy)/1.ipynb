{
 "cells": [
  {
   "cell_type": "code",
   "execution_count": 1,
   "id": "5e58f4ba",
   "metadata": {},
   "outputs": [
    {
     "name": "stdout",
     "output_type": "stream",
     "text": [
      "1 2 3 4 -8 -10\n",
      "[-10.  -8.   4.   3.   2.   1.]\n"
     ]
    }
   ],
   "source": [
    "##Question 1: Arrays\n",
    "import numpy\n",
    "\n",
    "def arrays(arr):\n",
    "    # complete this function\n",
    "    # use numpy.array\n",
    "    arr=arr[::-1]\n",
    "    return numpy.array(arr,dtype=float)\n",
    "arr = input().strip().split(' ')\n",
    "result = arrays(arr)\n",
    "print(result)"
   ]
  },
  {
   "cell_type": "code",
   "execution_count": 2,
   "id": "fa82f1e5",
   "metadata": {},
   "outputs": [
    {
     "name": "stdout",
     "output_type": "stream",
     "text": [
      "1 2 3 4 5 6 7 8 9\n",
      "[[1 2 3]\n",
      " [4 5 6]\n",
      " [7 8 9]]\n"
     ]
    }
   ],
   "source": [
    "##Question 2: Shape and Reshape\n",
    "import numpy\n",
    "list=input().split(\" \")\n",
    "array=numpy.array(list,dtype=int)\n",
    "array=numpy.reshape(array,(3,3))\n",
    "print(array)"
   ]
  },
  {
   "cell_type": "code",
   "execution_count": 3,
   "id": "6919ec30",
   "metadata": {},
   "outputs": [
    {
     "name": "stdout",
     "output_type": "stream",
     "text": [
      "2 2\n",
      "1 2\n",
      "3 4\n",
      "[[1 3]\n",
      " [2 4]]\n",
      "[1 2 3 4]\n"
     ]
    }
   ],
   "source": [
    "##Question 3: Transpose and Flatten\n",
    "import numpy\n",
    "l=[]\n",
    "a,b=map(int,input().split(\" \"))\n",
    "for _ in range(a):\n",
    "    i=input().split(\" \")\n",
    "    l.extend(i)\n",
    "z=numpy.array(l,dtype=int)\n",
    "print(numpy.transpose(numpy.reshape(z,(a,b))))\n",
    "print(z)"
   ]
  },
  {
   "cell_type": "code",
   "execution_count": 4,
   "id": "b71d82ed",
   "metadata": {},
   "outputs": [
    {
     "name": "stdout",
     "output_type": "stream",
     "text": [
      "4 3 2\n",
      "1 2\n",
      "1 2\n",
      "1 2\n",
      "1 2\n",
      "3 4\n",
      "3 4\n",
      "3 4\n",
      "[[1 2]\n",
      " [1 2]\n",
      " [1 2]\n",
      " [1 2]\n",
      " [3 4]\n",
      " [3 4]\n",
      " [3 4]]\n"
     ]
    }
   ],
   "source": [
    "## Question 4: Concatenate \n",
    "import numpy\n",
    "a,b,c=map(int,input().split(\" \"))\n",
    "l=[]\n",
    "for _ in range(a):\n",
    "    z=map(int,input().split(\" \"))\n",
    "    l.extend(z)\n",
    "arr=numpy.reshape(numpy.array(l),(a,c))\n",
    "l=[]\n",
    "for _ in range(b):\n",
    "    z=map(int,input().split(\" \"))\n",
    "    l.extend(z)\n",
    "arr1=numpy.reshape(numpy.array(l),(b,c))\n",
    "print(numpy.concatenate((arr,arr1),axis=0))"
   ]
  },
  {
   "cell_type": "code",
   "execution_count": 5,
   "id": "779e61c2",
   "metadata": {},
   "outputs": [
    {
     "name": "stdout",
     "output_type": "stream",
     "text": [
      "3 3 3\n",
      "[[[0 0 0]\n",
      "  [0 0 0]\n",
      "  [0 0 0]]\n",
      "\n",
      " [[0 0 0]\n",
      "  [0 0 0]\n",
      "  [0 0 0]]\n",
      "\n",
      " [[0 0 0]\n",
      "  [0 0 0]\n",
      "  [0 0 0]]]\n",
      "[[[1 1 1]\n",
      "  [1 1 1]\n",
      "  [1 1 1]]\n",
      "\n",
      " [[1 1 1]\n",
      "  [1 1 1]\n",
      "  [1 1 1]]\n",
      "\n",
      " [[1 1 1]\n",
      "  [1 1 1]\n",
      "  [1 1 1]]]\n"
     ]
    }
   ],
   "source": [
    "##Question 5: Zeros and Ones\n",
    "import numpy\n",
    "a=[int(i) for i in input().split(\" \")]\n",
    "a=tuple(a)\n",
    "print(numpy.zeros(a,dtype=int))\n",
    "print(numpy.ones(a,dtype=int))"
   ]
  },
  {
   "cell_type": "code",
   "execution_count": 7,
   "id": "ab663f8d",
   "metadata": {},
   "outputs": [
    {
     "name": "stdout",
     "output_type": "stream",
     "text": [
      "3 3\n",
      "[[ 1.  0.  0.]\n",
      " [ 0.  1.  0.]\n",
      " [ 0.  0.  1.]]\n"
     ]
    }
   ],
   "source": [
    "##Question 6: Eye and Identity\n",
    "import numpy\n",
    "numpy.set_printoptions(legacy='1.13')\n",
    "n,m=map(int,input().split(\" \"))\n",
    "print(numpy.eye(n,m))"
   ]
  },
  {
   "cell_type": "code",
   "execution_count": 8,
   "id": "37856dc9",
   "metadata": {},
   "outputs": [
    {
     "name": "stdout",
     "output_type": "stream",
     "text": [
      "1 4\n",
      "1 2 3 4\n",
      "5 6 7 8\n",
      "[[ 6  8 10 12]]\n",
      "[[-4 -4 -4 -4]]\n",
      "[[ 5 12 21 32]]\n",
      "[[0 0 0 0]]\n",
      "[[1 2 3 4]]\n",
      "[[    1    64  2187 65536]]\n"
     ]
    }
   ],
   "source": [
    "##Question 7: Array Mathematics\n",
    "import numpy\n",
    "a,b=map(int,input().split(\" \"))\n",
    "l=[]\n",
    "for _ in range(a):\n",
    "    z=[int(i) for i in input().split(\" \")]\n",
    "    l.extend(z)\n",
    "arr=numpy.array(l)\n",
    "arr=numpy.reshape(arr,(a,b))\n",
    "l=[]\n",
    "for _ in range(a):\n",
    "    z=[int(i) for i in input().split(\" \")]\n",
    "    l.extend(z)\n",
    "arr1=numpy.array(l)\n",
    "arr1=numpy.reshape(arr1,(a,b))\n",
    "print(arr+arr1)\n",
    "print(arr-arr1)\n",
    "print(arr*arr1)\n",
    "print(arr//arr1)\n",
    "print(arr%arr1)\n",
    "print(arr**arr1) "
   ]
  },
  {
   "cell_type": "code",
   "execution_count": 9,
   "id": "fb86f53f",
   "metadata": {},
   "outputs": [
    {
     "name": "stdout",
     "output_type": "stream",
     "text": [
      "1.1 2.2 3.3 4.4 5.5 6.6 7.7 8.8 9.9\n",
      "[ 1.  2.  3.  4.  5.  6.  7.  8.  9.]\n",
      "[  2.   3.   4.   5.   6.   7.   8.   9.  10.]\n",
      "[  1.   2.   3.   4.   6.   7.   8.   9.  10.]\n"
     ]
    }
   ],
   "source": [
    "##Question 8: Floor,Ceil and Rint\n",
    "import numpy\n",
    "numpy.set_printoptions(legacy=\"1.13\")\n",
    "l=input().split(\" \")\n",
    "arr=numpy.array(l,dtype=float)\n",
    "print(numpy.floor(arr))\n",
    "print(numpy.ceil(arr))\n",
    "print(numpy.rint(arr))"
   ]
  },
  {
   "cell_type": "code",
   "execution_count": 10,
   "id": "40375831",
   "metadata": {},
   "outputs": [
    {
     "name": "stdout",
     "output_type": "stream",
     "text": [
      "2 2\n",
      "1 2\n",
      "3 4\n",
      "24\n"
     ]
    }
   ],
   "source": [
    "##Question 9: sum and prod\n",
    "import numpy\n",
    "a,b=map(int,input().split(\" \"))\n",
    "l=[]\n",
    "for _ in range(a):\n",
    "    z=[int(i) for i in input().split(\" \")]\n",
    "    l.extend(z)\n",
    "arr=numpy.array(l)\n",
    "arr=numpy.reshape(arr,(a,b))\n",
    "print(numpy.prod(numpy.sum(arr,axis=0)))"
   ]
  },
  {
   "cell_type": "code",
   "execution_count": 11,
   "id": "2e2eae92",
   "metadata": {},
   "outputs": [
    {
     "name": "stdout",
     "output_type": "stream",
     "text": [
      "4 2\n",
      "2 5\n",
      "3 7\n",
      "1 3\n",
      "4 0\n",
      "3\n"
     ]
    }
   ],
   "source": [
    "##Question 10:Min and Max\n",
    "import numpy\n",
    "a,b=map(int,input().split(\" \"))\n",
    "l=[]\n",
    "for _ in range(a):\n",
    "    z=[int(i) for i in input().split(\" \")]\n",
    "    l.extend(z)\n",
    "arr=numpy.array(l)\n",
    "arr=numpy.reshape(arr,(a,b))\n",
    "print(numpy.max(numpy.min(arr,axis=1)))"
   ]
  },
  {
   "cell_type": "code",
   "execution_count": 12,
   "id": "43921b9b",
   "metadata": {},
   "outputs": [
    {
     "name": "stdout",
     "output_type": "stream",
     "text": [
      "2 2\n",
      "1 2\n",
      "3 4\n",
      "[ 1.5  3.5]\n",
      "[ 1.  1.]\n",
      "1.11803398875\n"
     ]
    }
   ],
   "source": [
    "##Question 11: Mean,Var and Std\n",
    "import numpy\n",
    "a,b=map(int,input().split(\" \"))\n",
    "l=[]\n",
    "for _ in range(a):\n",
    "    z=[int(i) for i in input().split(\" \")]\n",
    "    l.extend(z)\n",
    "arr=numpy.array(l)\n",
    "arr=numpy.reshape(arr,(a,b))\n",
    "print(numpy.mean(arr,axis=1))\n",
    "print(numpy.var(arr,axis=0))\n",
    "print(numpy.rint(numpy.std(arr)*10**11)/10**11)"
   ]
  },
  {
   "cell_type": "code",
   "execution_count": 13,
   "id": "99bd777e",
   "metadata": {},
   "outputs": [
    {
     "name": "stdout",
     "output_type": "stream",
     "text": [
      "2\n",
      "1 2\n",
      "3 4\n",
      "1 2\n",
      "3 4\n",
      "[[ 7 10]\n",
      " [15 22]]\n"
     ]
    }
   ],
   "source": [
    "##Question 12: Dot and Cross\n",
    "import numpy\n",
    "a=int(input())\n",
    "l=[]\n",
    "for _ in range(a):\n",
    "    z=[int(i) for i in input().split(\" \")]\n",
    "    l.extend(z)\n",
    "arr=numpy.array(l)\n",
    "arr=numpy.reshape(arr,(a,a))\n",
    "l=[]\n",
    "for _ in range(a):\n",
    "    z=[int(i) for i in input().split(\" \")]\n",
    "    l.extend(z)\n",
    "arr1=numpy.array(l)\n",
    "arr1=numpy.reshape(arr1,(a,a))\n",
    "print(numpy.dot(arr,arr1))"
   ]
  },
  {
   "cell_type": "code",
   "execution_count": null,
   "id": "b3f9988d",
   "metadata": {},
   "outputs": [],
   "source": [
    "##Question 13: Inner and Outer\n",
    "import numpy\n",
    "arr = numpy.array(input().split(), dtype=int)\n",
    "arr1 = numpy.array(input().split(), dtype=int)\n",
    "print(numpy.inner(arr,arr1))\n",
    "print(numpy.outer(arr,arr1))"
   ]
  },
  {
   "cell_type": "code",
   "execution_count": 18,
   "id": "d0654e28",
   "metadata": {},
   "outputs": [
    {
     "name": "stdout",
     "output_type": "stream",
     "text": [
      "1.1 2 3\n",
      "0\n",
      "3.0\n"
     ]
    }
   ],
   "source": [
    "##Question 14: Polynomials\n",
    "import numpy\n",
    "a=[float(i) for i in input().split(\" \")]\n",
    "b=float(input())\n",
    "c=len(a)-1\n",
    "ans=0.0\n",
    "for i in a:\n",
    "    ans+=i*(b**c)\n",
    "    c-=1\n",
    "print(ans)"
   ]
  },
  {
   "cell_type": "code",
   "execution_count": 17,
   "id": "54414dff",
   "metadata": {},
   "outputs": [
    {
     "name": "stdout",
     "output_type": "stream",
     "text": [
      "2\n",
      "1.1 1.1\n",
      "1.1 1.2\n",
      "0.11\n"
     ]
    }
   ],
   "source": [
    "##Question 15: Linear Algebra\n",
    "import numpy\n",
    "a=int(input())\n",
    "l=[]\n",
    "for _ in range(a):\n",
    "    z=[float(i) for i in input().split(\" \")]\n",
    "    l.extend(z)\n",
    "arr=numpy.array(l)\n",
    "arr=numpy.reshape(arr,(a,a))\n",
    "print(numpy.rint(numpy.linalg.det(arr)*100)/100)"
   ]
  }
 ],
 "metadata": {
  "kernelspec": {
   "display_name": "Python 3",
   "language": "python",
   "name": "python3"
  },
  "language_info": {
   "codemirror_mode": {
    "name": "ipython",
    "version": 3
   },
   "file_extension": ".py",
   "mimetype": "text/x-python",
   "name": "python",
   "nbconvert_exporter": "python",
   "pygments_lexer": "ipython3",
   "version": "3.9.4"
  }
 },
 "nbformat": 4,
 "nbformat_minor": 5
}
